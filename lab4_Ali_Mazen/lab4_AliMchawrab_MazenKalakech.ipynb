{
 "cells": [
  {
   "cell_type": "markdown",
   "metadata": {},
   "source": [
    "# Python\n",
    "\n",
    "[Centrale Lille, G3 SDIA | M1 DS, University of Lille]\n",
    "\n",
    "---\n",
    "\n",
    "## TP4 : K-nearest neighbours (K-NN) classification with numpy, scikit-learn, cython and numba\n",
    "\n",
    "---\n"
   ]
  },
  {
   "cell_type": "markdown",
   "metadata": {},
   "source": [
    "## Guidelines (read carefully before starting)\n",
    "\n",
    "\n",
    "**Objectives**: acquire further practice with standard techniques and libraries to significantly accelerate (serial) `numpy` codes (cython, `numba`). The implementation will be compared and validated against the corresponding scikit-learn implementation.\n",
    "\n",
    "**Guidelines**: after retrieving the resources for the lab on moodle:\n",
    "- place the `.zip` archive in a local folder (Computer -> Documents/Python/);\n",
    "- unzip the archive `.zip`;\n",
    "- rename the folder with the convention `lab4_Name1_Name2`;\n",
    "- duplicate the notebook file and rename it `lab4_Name1_Name2.ipynb`;\n",
    "- [**optional, possibly needed if working from Centrale's machines**]\n",
    "    - create a `lab4` conda environment from the provided `requirement.txt` file\n",
    "    ```bash\n",
    "    conda create --name=lab4 --file=requirement.txt --channel conda-forge\n",
    "    conda activate lab4\n",
    "    # do not forget to deactivate the environment if needed\n",
    "    # you can remove the environment once you are done\n",
    "    conda env remove --name=lab4\n",
    "    ```\n",
    "    - launch jupyter notebook (the python environment will be the one from the conda environment `lab4`)\n",
    "- at the end of the session, do not forget to transfer your work to your own network space if you are working on a machine from the school (do not leave your work on the C: drive).\n",
    "\n",
    "**Assessment** &#8594; global grade from F to A (A+)\n",
    "\n",
    "This lab session will be evaluated, based on your answer to the exercises reported in a Jupyter notebook (e.g., this one) and any additional `.py` file produced. Any code produced should be commented whenever appropriate, custom functions and objects documented and unit-tested (see session 1). Figure produced should be clearly annotated (axis, title, legend whenever appropriate).\n",
    "\n",
    "1. Numerical correctness\n",
    "2. Implementation clarity (documentation, relevance of the comments)\n",
    "3. Unit-tests developed whenever appropriate (correctness, relevance)\n",
    "4. Answers to the questions and overall presentation of the Jupyter notebook.\n",
    "\n",
    "**Useful references for this lab**:\n",
    "\n",
    "[1] scikit-learn: [documentation](https://scikit-learn.org/stable/modules/neighbors.html?highlight=knn%20classification)\n",
    "\n",
    "[2] `numba`: [documentation](http://numba.pydata.org/) \n",
    "\n",
    "[3] cython: [a very useful tutorial](https://cython.readthedocs.io/en/latest/src/userguide/numpy_tutorial.html#numpy-tutorial), and [another one](http://docs.cython.org/en/latest/src/tutorial/cython_tutorial.html)\n",
    "\n",
    "\n",
    "\n",
    "## <a name=\"content\">Contents</a>\n",
    "- [Exercise 1: KNN classification with numpy and sklearn](#ex1)\n",
    "- [Exercise 2: Code acceleration with cython](#ex2)\n",
    "- [[Bonus] Exercise 3: Code acceleration with numba](#ex3)\n",
    "---"
   ]
  },
  {
   "cell_type": "code",
   "execution_count": 1,
   "metadata": {},
   "outputs": [],
   "source": [
    "%load_ext autoreload\n",
    "%autoreload 2\n",
    "import timeit"
   ]
  },
  {
   "cell_type": "markdown",
   "metadata": {},
   "source": [
    "## <a name=\"ex1\">Exercise 1: K-Nearest Neighbours (K-NN) classification with numpy and scikit-learn</a> [(&#8593;)](#content)"
   ]
  },
  {
   "cell_type": "markdown",
   "metadata": {},
   "source": [
    "This session is a first introduction to classification using the most intuitive non parametric method: the $K$-nearest neighbours. The principle is [the following](https://scikit-learn.org/stable/modules/neighbors.html?highlight=knn%20classification). A set of labelled observations is given as a learning set. A classification taks then consists in assigning a label to any new observation. In particular, the K-NN approach consists in assigning to the observation the most frequent label among its $K$ nearest neighbours taken in the training set."
   ]
  },
  {
   "cell_type": "markdown",
   "metadata": {},
   "source": [
    "### A. Validation on synthetic data\n",
    "\n",
    "Load the training and test datasets `data/synth_train.txt` and `data/synth_test.txt`. Targets belong to the set $\\{1,2\\}$ and entries belong to $\\mathbb{R}^2$. The file `data/synth_train.txt` contain 100 training data samples, and `data/synth_test.txt` contains 200 test samples, where:\n",
    "\n",
    "- the 1st column contains the label of the class the sample;\n",
    "- columns 2 & 3 contain the coordinates of each sample (in $\\mathbb{R}^2$).\n",
    "\n",
    "Useful commands can be found below."
   ]
  },
  {
   "cell_type": "markdown",
   "metadata": {},
   "source": [
    "```python\n",
    "# load the training set\n",
    "train = np.loadtxt('data/synth_train.txt')  #...,delimiter=',') if there are ',' as delimiters\n",
    "class_train = train[:,0]\n",
    "x_train = train[:,1:]\n",
    "N_train = train.shape[0]\n",
    "```"
   ]
  },
  {
   "cell_type": "markdown",
   "metadata": {},
   "source": [
    "```python\n",
    "# load the test set\n",
    "test = np.loadtxt('/datasynth_test.txt') \n",
    "class_test_1 = test[test[:,0]==1]\n",
    "class_test_2 = test[test[:,0]==2]\n",
    "y_test = test[:,0]\n",
    "x_test = test[:,1:]\n",
    "N_test = test.shape[0]\n",
    "```"
   ]
  },
  {
   "cell_type": "markdown",
   "metadata": {},
   "source": [
    "1\\. Display the training set and distinguish the two classes. \n",
    "\n",
    "> Hint: useful functions include `matplotlib.pyplot.scatter` or `matplotlib.pyplot.plot`."
   ]
  },
  {
   "cell_type": "markdown",
   "metadata": {},
   "source": [
    "Your answers(s)"
   ]
  },
  {
   "cell_type": "code",
   "execution_count": 2,
   "metadata": {},
   "outputs": [
    {
     "data": {
      "text/plain": [
       "<matplotlib.legend.Legend at 0x7c9a20edfe50>"
      ]
     },
     "execution_count": 2,
     "metadata": {},
     "output_type": "execute_result"
    },
    {
     "data": {
      "image/png": "[encoded data removed]",
      "text/plain": [
       "<Figure size 640x480 with 1 Axes>"
      ]
     },
     "metadata": {},
     "output_type": "display_data"
    }
   ],
   "source": [
    "import numpy as np\n",
    "import matplotlib.pyplot as plt\n",
    "data = np.loadtxt('data/synth_train.txt')\n",
    "test = np.loadtxt('data/synth_test.txt') \n",
    "y_test = test[:,0]\n",
    "x_test = test[:,1:]\n",
    "y_train = data[:,0]\n",
    "x_train = data[:,1:]\n",
    "N_train = data.shape[0]\n",
    "class1 = []\n",
    "class2 = []\n",
    "for i in range(100):\n",
    "    if(y_train[i] == 1):\n",
    "        class1.append(x_train[i])\n",
    "    else:\n",
    "        class2.append(x_train[i])\n",
    "class1 = np.array(class1)\n",
    "class2 = np.array(class2)\n",
    "plt.scatter(class1[:,0],class1[:,1],label='1')\n",
    "plt.scatter(class2[:,0],class2[:,1],label='2')\n",
    "plt.legend()\n"
   ]
  },
  {
   "cell_type": "markdown",
   "metadata": {},
   "source": [
    "2\\. Implement the K-nearest neighbours algorithm for classification.\n",
    "\n",
    "> Hint: \n",
    "> - useful functions include `numpy.linalg.norm`, `numpy.argsort`, `numpy.bincount`;\n",
    "> - implement the algorithm as a function rather than an object. This will drastically simplify the acceleration step using Cython.\n",
    "> - for an optimized partial sorting procedure, you may have a look at the [`bottleneck.argpartition` function](https://bottleneck.readthedocs.io/en/latest/reference.html#bottleneck.argpartition)."
   ]
  },
  {
   "cell_type": "markdown",
   "metadata": {},
   "source": [
    "Your answers(s)"
   ]
  },
  {
   "cell_type": "code",
   "execution_count": 3,
   "metadata": {},
   "outputs": [],
   "source": [
    "def KNN(x, k, training_features, training_labels):\n",
    "    distances = []\n",
    "    for i in range(np.shape(training_features)[0]):\n",
    "        d = np.linalg.norm(x-training_features[i])\n",
    "        distances.append((training_labels[i],d))\n",
    "    dtype = [('label', int), ('distance', float)]\n",
    "    distances = np.array(distances, dtype=dtype)\n",
    "    sorted = np.sort(distances, order='distance')            \n",
    "    closest_k_points = []\n",
    "    for i in range(0,k):\n",
    "        closest_k_points.append(sorted[i])\n",
    "    classes = np.zeros((2))\n",
    "    for i in closest_k_points:\n",
    "        if i[0] == 1:\n",
    "            classes[0] = classes[0] + 1\n",
    "        else: \n",
    "            classes[1] = classes[1] + 1\n",
    "    if classes[0] > classes[1]:\n",
    "        return 1\n",
    "    else: \n",
    "        return 2"
   ]
  },
  {
   "cell_type": "markdown",
   "metadata": {},
   "source": [
    "3\\. Compute the error rate on the training set and the test set for $K \\in \\{1,2, \\dotsc, 20\\}$. Display the classification result (see 1.) for the configuration with the lowest error rate."
   ]
  },
  {
   "cell_type": "markdown",
   "metadata": {},
   "source": [
    "Your answers(s)"
   ]
  },
  {
   "cell_type": "code",
   "execution_count": 4,
   "metadata": {},
   "outputs": [
    {
     "name": "stdout",
     "output_type": "stream",
     "text": [
      "95.5\n"
     ]
    }
   ],
   "source": [
    "#training set error rate\n",
    "error_per_k_train = []\n",
    "error_per_k_test = []\n",
    "\n",
    "train_set = x_train.copy()\n",
    "for k in range(1, 21):\n",
    "    error = 0\n",
    "    for i in range(99):\n",
    "        x = np.delete(x_train, i, 0)\n",
    "        y = np.delete(y_train, i)\n",
    "        if KNN(x_train[i], k, x, y) != y_train[i]:\n",
    "            error += 1\n",
    "    error_per_k_train.append((error, k))\n",
    "\n",
    "#testing set error rate\n",
    "for k in range(1, 21):\n",
    "    error = 0\n",
    "    for i in range(200):\n",
    "        if KNN(x_test[i], k, x_train, y_train) != y_test[i]:\n",
    "            error += 1\n",
    "    error_per_k_test.append((error, k))\n",
    "print(100 - (min(error_per_k_test)[0]/200)*100)\n",
    "            "
   ]
  },
  {
   "cell_type": "markdown",
   "metadata": {},
   "source": [
    "4\\. Comment on your results. Which value of $K$ seems optimal ?\n"
   ]
  },
  {
   "cell_type": "markdown",
   "metadata": {},
   "source": [
    "Your answers(s)"
   ]
  },
  {
   "cell_type": "code",
   "execution_count": 5,
   "metadata": {},
   "outputs": [
    {
     "data": {
      "text/plain": [
       "' For K = 3 the accuracy of the model is 95.5% and it is the highest, so the optimal K is 3'"
      ]
     },
     "execution_count": 5,
     "metadata": {},
     "output_type": "execute_result"
    }
   ],
   "source": [
    "''' For K = 3 the accuracy of the model is 95.5% and it is the highest, so the optimal K is 3'''"
   ]
  },
  {
   "cell_type": "markdown",
   "metadata": {},
   "source": [
    "5\\. Compare the results of you implementation with those of [`sklearn.neighbors.KNeighborsClassifier`](https://scikit-learn.org/stable/modules/generated/sklearn.neighbors.KNeighborsClassifier.html?highlight=kneighborsclassifier#sklearn.neighbors.KNeighborsClassifier). Compare the runtime of these two versions using the [`timeit`](https://docs.python.org/3/library/timeit.html) module (see session 1)."
   ]
  },
  {
   "cell_type": "markdown",
   "metadata": {},
   "source": [
    "Your answers(s)"
   ]
  },
  {
   "cell_type": "code",
   "execution_count": 6,
   "metadata": {},
   "outputs": [
    {
     "name": "stdout",
     "output_type": "stream",
     "text": [
      "Time taken by our implementation: 0.0001602120028110221\n",
      "Time taken by sklearn implementation: 0.0011842249950859696\n"
     ]
    }
   ],
   "source": [
    "from sklearn.neighbors import KNeighborsClassifier\n",
    "classifier = KNeighborsClassifier(n_neighbors=3)\n",
    "classifier.fit(x_train, y_train)\n",
    "classifier.score(x_test, y_test)\n",
    "\n",
    "''' For K = 3, we got the same accuracy using sklearn KNN classifier'''\n",
    "\n",
    "#runtime \n",
    "start1 = timeit.timeit()\n",
    "pred = KNN([2,2], 3,x_train, y_train)\n",
    "end1 = timeit.timeit()\n",
    "print(f\"Time taken by our implementation: {abs(start1-end1)}\")\n",
    "start2 = timeit.timeit()\n",
    "pred = classifier.predict([[2,2]])\n",
    "end2 = timeit.timeit()\n",
    "print(f\"Time taken by sklearn implementation: {abs(start2-end2)}\")\n"
   ]
  },
  {
   "cell_type": "markdown",
   "metadata": {},
   "source": [
    "### B. Application to a real dataset (Breast cancer Wisconsin).\n",
    "\n",
    "6\\. Apply the K-NN classifier to the real dataset `data/wdbc12.data.txt.` Further details about the data are provided in `data/wdbc12.names.txt`.\n",
    "\n",
    "> Hint: you can use the function [`train_test_split` from `sklearn.model_selection`](https://scikit-learn.org/stable/modules/generated/sklearn.model_selection.train_test_split.html) to split the dataset into a training and a test set."
   ]
  },
  {
   "cell_type": "markdown",
   "metadata": {},
   "source": [
    "Your answers(s)"
   ]
  },
  {
   "cell_type": "code",
   "execution_count": 7,
   "metadata": {},
   "outputs": [
    {
     "data": {
      "image/png": "[encoded data removed]",
      "text/plain": [
       "<Figure size 640x480 with 1 Axes>"
      ]
     },
     "metadata": {},
     "output_type": "display_data"
    },
    {
     "name": "stdout",
     "output_type": "stream",
     "text": [
      "<built-in function max>\n"
     ]
    }
   ],
   "source": [
    "\n",
    "from sklearn.model_selection import train_test_split\n",
    "data = np.loadtxt('data/wdbc12.data.txt', delimiter=',')\n",
    "X = data[:,3:]\n",
    "y = data[:,1]\n",
    "X_train, X_test, y_train, y_test = train_test_split(X, y,  test_size=0.2, random_state=42)\n",
    "Ks = []\n",
    "for i in range(1,21):\n",
    "    Ks.append(i)\n",
    "scores = []\n",
    "for i in Ks:\n",
    "    classifier = KNeighborsClassifier(i)\n",
    "    classifier.fit(X_train, y_train)\n",
    "    scores.append([classifier.score(X_test, y_test), i])\n",
    "scores = np.array(scores)\n",
    "plt.plot(scores[:,1],scores[:,0])\n",
    "plt.xticks(range(1, 21))\n",
    "plt.xlabel(\"Hyperparameter K (K-closest Neighbors)\")\n",
    "plt.ylabel(\"Mean Accuracy\")\n",
    "plt.title(\"Mean accuracy per K value\")\n",
    "plt.show()\n",
    "print(max)\n",
    "\n"
   ]
  },
  {
   "cell_type": "markdown",
   "metadata": {},
   "source": [
    "## <a name=\"ex2\">Exercise 2: Code acceleration with cython</a> [(&#8593;)](#content)\n",
    "\n",
    "Cython allows C code to be easily interfaced with Python. It can be useful to make your code faster for a small coding effort, in particular when using loops. A general approach to optimize your code is outlined in the [Scipy lecture notes, Section 2.4](https://scipy-lectures.org/advanced/optimizing/index.html). Complementary reading about interfacing Python with C can be found in [Section 2.8](https://scipy-lectures.org/advanced/interfacing_with_c/interfacing_with_c.html).\n",
    "\n",
    "1\\. Read carefully the [cython tutorial](http://docs.cython.org/en/latest/src/tutorial/cython_tutorial.html), which describes step by the step how the toy example reported below has been developed."
   ]
  },
  {
   "cell_type": "markdown",
   "metadata": {},
   "source": [
    "**Setup**: Compile the toy example provided in `example_cy/` by running, in the command line (anaconda prompt on windows)"
   ]
  },
  {
   "cell_type": "markdown",
   "metadata": {},
   "source": [
    "```bash\n",
    "cd example_cy && python setup.py build_ext --inplace\n",
    "```"
   ]
  },
  {
   "cell_type": "markdown",
   "metadata": {},
   "source": [
    "Note that the compilation process has been slightly automatised with the instructions reported in `example_cy/setup.py`. To test the module, run"
   ]
  },
  {
   "cell_type": "code",
   "execution_count": 8,
   "metadata": {},
   "outputs": [
    {
     "name": "stdout",
     "output_type": "stream",
     "text": [
      "running build_ext\n",
      "copying build/lib.linux-x86_64-cpython-311/helloworld.cpython-311-x86_64-linux-gnu.so -> \n"
     ]
    }
   ],
   "source": [
    "!cd example_cy && python setup.py build_ext --inplace"
   ]
  },
  {
   "cell_type": "code",
   "execution_count": 9,
   "metadata": {},
   "outputs": [
    {
     "name": "stdout",
     "output_type": "stream",
     "text": [
      "Hello World\n"
     ]
    }
   ],
   "source": [
    "import example_cy.helloworld as toy\n",
    "toy.printhello()"
   ]
  },
  {
   "cell_type": "markdown",
   "metadata": {},
   "source": [
    "which should display\n",
    "```python\n",
    "Hello World\n",
    "```"
   ]
  },
  {
   "cell_type": "markdown",
   "metadata": {},
   "source": [
    "> Warning: \n",
    "> - do not forget to include an empty `__init__.py` file in the directory where your source code lives (`import` will fail if this is not the case).\n",
    "> - in case you have any setup issue, take a look at the `notes.md` file.\n",
    "> - if the C code and/or the executable do not seem to be regenerated by the build instructions, delete the C code and the executable first, and re-execute the compilation afterwards.\n",
    "> - do not hesitate to restart the Python kernel if necessary when the Cython executable has been re-generated."
   ]
  },
  {
   "cell_type": "markdown",
   "metadata": {},
   "source": [
    "Another example using numpy is provided below (just testing import and compilation statements)."
   ]
  },
  {
   "cell_type": "code",
   "execution_count": 10,
   "metadata": {},
   "outputs": [],
   "source": [
    "!cd example_np_cy && python setup.py build_ext --inplace"
   ]
  },
  {
   "cell_type": "code",
   "execution_count": 11,
   "metadata": {},
   "outputs": [],
   "source": [
    "from example_np_cy.compute_cy import compute"
   ]
  },
  {
   "cell_type": "markdown",
   "metadata": {},
   "source": [
    "2\\. Read the [Numpy/Cython tutorial](https://cython.readthedocs.io/en/latest/src/userguide/numpy_tutorial.html#numpy-tutorial), focussing on the paragraphs **Cython at a glance**, and **Your Cython environment** until **\"More generic code\"**. An example to compile a `.pyx` file depending on `numpy` is included in `example_np_cy/`."
   ]
  },
  {
   "cell_type": "markdown",
   "metadata": {},
   "source": [
    "> Remarks: \n",
    "> - the `annotate=True` flag in the `setup.py` allows an additional `.html` document to be generated (`<your_module_name>.html`), showing, for each line of the Cython code, the associated C instructions generated. Highlighted in yellow are the interactions with Python: the darker a region appears, the less efficient the generated C code is for this section. Work in priority on these! \n",
    "> - make sure all the previously generated files are deleted to allow the .html report to be generated;\n",
    "> - if you are working on your own machine and don't have a C/C++ compiler installed, read the notes provided in `notes.md`;\n",
    "> - use `cdef` for pure C functions (not exported to Python), `cpdef` should be favored for functions containing C instructions and later called from Python."
   ]
  },
  {
   "cell_type": "markdown",
   "metadata": {},
   "source": [
    "Your answers(s)"
   ]
  },
  {
   "cell_type": "code",
   "execution_count": 12,
   "metadata": {},
   "outputs": [],
   "source": [
    "# your code"
   ]
  },
  {
   "cell_type": "markdown",
   "metadata": {},
   "source": [
    "3\\. Use Cython to implement a faster version of the numpy K-NN classifier implemented in [Exercise 1](#ex1). To do so, apply step-by-step the techniques introduced in the [Numpy/Cython tutorial](https://cython.readthedocs.io/en/latest/src/userguide/numpy_tutorial.html#numpy-tutorial) (*i.e.*, compile and time your code after each step to report the evolution, keeping track of the different versions of the cython function).\n",
    "\n",
    "> Hint: if you keep numpy arrays, make sure you use memory views (see numpy/cython tutorial) to access the elements within it. Be extremely careful with the type of the input arrays (you may need to recast the format of the input elements before entering the function. The `numpy.asarray` function can prove useful).\n",
    "\n",
    "> **Detailed guidelines**: a few notes and *caveat* to help you re-writing your code in cython:\n",
    "> - try to reduce the number of calls to numpy instructions as much as possible;\n",
    "> - **you do not have to optimize everything**. For the KNN function above, most of the time is spent in computing euclidean distances: you can thus focus on optimizing tihs operations by explicitly writing a for loop, which will ensure a minimal interaction with numpy when generating the associated C code at compilation. Calls to other numpy functions can be kept as-is;\n",
    "> - if you need to create an array within the cython function, used np.zeros (**do NOT use python lists**), and use a memory view to access its content;\n",
    "> - specify the type for all variables and numpy arrays. Pay attention to the type of the input arrays passed to the Cython function;\n",
    "> - whenever an array is returned, use memory views and index(es) to efficiently access its content;\n",
    "> - some numpy operators (e.g., broadcasting mechanism) do not work with memory views. In this case, you can directly write for loop(s) to encode the operation of interest (the loops will be optimized out at compile time);\n",
    "> - only use at the final development stage the following cython optimization (not before, as they can crash the program without any help):\n",
    ">\n",
    ">```python\n",
    ">@cython.boundscheck(False)\n",
    ">@cython.wraparound(False)\n",
    ">```"
   ]
  },
  {
   "cell_type": "markdown",
   "metadata": {},
   "source": [
    "Your answers(s)"
   ]
  },
  {
   "cell_type": "code",
   "execution_count": 13,
   "metadata": {},
   "outputs": [
    {
     "data": {
      "text/plain": [
       "1"
      ]
     },
     "execution_count": 13,
     "metadata": {},
     "output_type": "execute_result"
    }
   ],
   "source": [
    "!cd knn_classifier_cy && python setup.py build_ext --inplace\n",
    "from knn_classifier_cy.knn_classifier import KNN as knnc \n",
    "knnc(np.array([2,2], dtype=np.float32), 3, x_train.astype(np.float32), y_train.astype(np.uint8))"
   ]
  },
  {
   "cell_type": "markdown",
   "metadata": {},
   "source": [
    "4\\. Compare the runtime of the two algorithms (using `timeit.timeit`), and conclude about the interest of using cython in this case."
   ]
  },
  {
   "cell_type": "markdown",
   "metadata": {},
   "source": [
    "Your answers(s)"
   ]
  },
  {
   "cell_type": "code",
   "execution_count": 24,
   "metadata": {},
   "outputs": [
    {
     "name": "stdout",
     "output_type": "stream",
     "text": [
      "6.05 μs ± 53.2 ns per loop (mean ± std. dev. of 7 runs, 100,000 loops each)\n"
     ]
    }
   ],
   "source": [
    "%%timeit\n",
    "# Knn using cython implementation\n",
    "knnc(np.array([1.7,10.8], dtype=np.float32), 3, x_train.astype(np.float32), y_train.astype(np.uint8))"
   ]
  },
  {
   "cell_type": "code",
   "execution_count": 15,
   "metadata": {},
   "outputs": [
    {
     "name": "stdout",
     "output_type": "stream",
     "text": [
      "228 μs ± 566 ns per loop (mean ± std. dev. of 7 runs, 1,000 loops each)\n"
     ]
    }
   ],
   "source": [
    "%%timeit\n",
    "# Knn using python implementation\n",
    "KNN(np.array([1.7,10.8], dtype=np.float64), 3, x_train, y_train)"
   ]
  },
  {
   "cell_type": "markdown",
   "metadata": {},
   "source": [
    "We can see that the implementation of our KNN algorithm using Cython is around 38 $\\times$ faster.\n",
    "In this case using cython is not super beneficial since we are not working with a dataset that is too large and we are talking about a difference of $200\\mu s$"
   ]
  },
  {
   "cell_type": "markdown",
   "metadata": {},
   "source": [
    "## <a name=\"ex3\">[Bonus] Exercise 3: Code acceleration with numba</a> [(&#8593;)](#content)\n",
    "\n",
    "`numba` is a just-in-time (JIT) compiler which translates Python codes into efficient machine code at runtime. A significant acceleration can be obtained by adding a few simple decorators to a standard Python function, up to a few restrictions detailed [here](http://numba.pydata.org/numba-doc/latest/user/performance-tips.html).\n",
    "\n",
    "If you have written most of the KNN classifier of exercise 1 with numpy, there is little to no chance that you will get an acceleration with numba (justifying the use of cython in this case). An interesting acceleration factor can however be obtained for the computation of the total variation investigated in session 2."
   ]
  },
  {
   "cell_type": "markdown",
   "metadata": {},
   "source": [
    "1\\. Take a look at the [numba 5 min tour](http://numba.pydata.org/numba-doc/latest/user/5minguide.html), and accelerate the total variation code from session 2 with the `@jit` decorator. You may have to rewrite small portions of your code to get the expected acceleration (see [performance tips](http://numba.pydata.org/numba-doc/latest/user/performance-tips.html))."
   ]
  },
  {
   "cell_type": "markdown",
   "metadata": {},
   "source": [
    "Your answers(s)"
   ]
  },
  {
   "cell_type": "code",
   "execution_count": 16,
   "metadata": {},
   "outputs": [],
   "source": [
    "# your code"
   ]
  },
  {
   "cell_type": "markdown",
   "metadata": {},
   "source": [
    "2\\. Compare the runtime of the your numpy implementation and the `numba`-accelerated version (using `timeit.timeit`). \n",
    "> **Warning**: first run the numba version once to trigger the compilation, and then time it as usual. This is needed to avoid including the JIT compilation step in the runtime."
   ]
  },
  {
   "cell_type": "markdown",
   "metadata": {},
   "source": [
    "Your answers(s)"
   ]
  },
  {
   "cell_type": "code",
   "execution_count": 17,
   "metadata": {},
   "outputs": [],
   "source": [
    "# your code"
   ]
  }
 ],
 "metadata": {
  "file_extension": ".py",
  "kernelspec": {
   "display_name": "lab4",
   "language": "python",
   "name": "python3"
  },
  "language_info": {
   "codemirror_mode": {
    "name": "ipython",
    "version": 3
   },
   "file_extension": ".py",
   "mimetype": "text/x-python",
   "name": "python",
   "nbconvert_exporter": "python",
   "pygments_lexer": "ipython3",
   "version": "3.11.13"
  },
  "mimetype": "text/x-python",
  "name": "python",
  "npconvert_exporter": "python",
  "pygments_lexer": "ipython3",
  "version": 3
 },
 "nbformat": 4,
 "nbformat_minor": 4
}
