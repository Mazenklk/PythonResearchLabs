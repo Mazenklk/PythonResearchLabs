{
 "cells": [
  {
   "cell_type": "markdown",
   "metadata": {},
   "source": [
    "# Python\n",
    "\n",
    "[Centrale Lille, G3 SDIA | M1 DS, University of Lille]\n",
    "\n",
    "---\n",
    "\n",
    "## Lab 3 - Brownian motion, Fourier transform\n",
    "\n",
    "---\n"
   ]
  },
  {
   "cell_type": "markdown",
   "metadata": {},
   "source": [
    "## Guidelines (read carefully before starting)\n",
    "\n",
    "\n",
    "**Objectives**: acquire further practice with common libraries and algorithms (`numpy.fft`, `matplotlib`, `seaborn`).\n",
    "\n",
    "**Guidelines**: after retrieving the resources for the lab on moodle:\n",
    "- place the `.zip` archive in a local folder (Computer -> Documents/Python/);\n",
    "- unzip the archive `.zip`;\n",
    "- rename the folder with the convention `lab3_Name1_Name2`;\n",
    "- duplicate the notebook file and rename it `lab3_Name1_Name2.ipynb`;\n",
    "- [**optional, possibly needed if working from Centrale's machines**]\n",
    "    - create a `lab3` conda environment from the provided `requirement.txt` file\n",
    "    ```bash\n",
    "    conda create --name=lab3 --file=requirement.txt --channel conda-forge\n",
    "    conda activate lab3\n",
    "    # do not forget to deactivate the environment if needed\n",
    "    # you can remove the environment once you are done\n",
    "    conda env remove --name=lab3\n",
    "    ```\n",
    "    - launch jupyter notebook (the python environment will be the one from the conda environment `lab3`)\n",
    "- at the end of the session, do not forget to transfer your work to your own network space if you are working on a machine from the school (do not leave your work on the C: drive).\n",
    "\n",
    "**Assessment** &#8594; global grade from F to A (A+)\n",
    "\n",
    "This lab session will be evaluated, based on your answer to the exercises reported in a Jupyter notebook (e.g., this one) and any additional `.py` file produced. Any code produced should be commented whenever appropriate, custom functions and objects documented and unit-tested (see session 1). Figure produced should be clearly annotated (axis, title, legend whenever appropriate).\n",
    "\n",
    "1. Numerical correctness\n",
    "2. Implementation clarity (documentation, relevance of the comments)\n",
    "3. Unit-tests developed whenever appropriate (correctness, relevance)\n",
    "4. Answers to the questions and overall presentation of the Jupyter notebook.\n",
    "\n",
    "**Useful references for this lab**:\n",
    "\n",
    "[1] `numpy.random`: [documentation](https://numpy.org/doc/stable/reference/random/index.html?highlight=random#module-numpy.random) \n",
    "\n",
    "[2] `numpy.fft`: [documentation](https://numpy.org/doc/stable/reference/routines.fft.html?highlight=fft#module-numpy.fft)\n",
    "\n",
    "[3] `seaborn`: [tutorial/documentation](https://seaborn.pydata.org/tutorial.html#)\n",
    "\n",
    "[4] `pandas`: [documentation](https://pandas.pydata.org/docs/reference/index.html)\n",
    "\n",
    "[5] `matplotlib`: [documentation](https://matplotlib.org/contents.html)\n",
    "\n",
    "\n",
    "## <a name=\"content\">Contents</a>\n",
    "- [Exercise 1: Titanic data handling](#ex1)\n",
    "- [Exercise 2: 2D Fourier transform, ideal low-pass filter and linear convolution](#ex2)\n",
    "---"
   ]
  },
  {
   "cell_type": "code",
   "execution_count": 22,
   "metadata": {
    "ExecuteTime": {
     "end_time": "2023-09-25T23:07:24.468441Z",
     "start_time": "2023-09-25T23:07:24.360918Z"
    }
   },
   "outputs": [
    {
     "name": "stdout",
     "output_type": "stream",
     "text": [
      "The autoreload extension is already loaded. To reload it, use:\n",
      "  %reload_ext autoreload\n"
     ]
    }
   ],
   "source": [
    "%load_ext autoreload\n",
    "%autoreload 2"
   ]
  },
  {
   "cell_type": "markdown",
   "metadata": {},
   "source": [
    "## <a name=\"ex1\">Exercise 1: Titanic data handling</a> [(&#8593;)](#content)\n",
    "\n",
    "Welcome to this data cleaning exercise with the Titanic dataset. Data cleaning is a crucial step in data analysis, involving tasks like handling missing values, adjusting data types, and preparing data for analysis.\n",
    "\n",
    "In this exercise, we'll use Python and Pandas to clean the Titanic dataset, which contains passenger information. The goal is to get the data ready for analysis by addressing data quality issues.\n",
    "\n",
    "You'll go through tasks like identifying and handling missing values, selecting relevant columns, converting data types, handling categorical data, and performing basic data exploration using Matplotlib and seaborn.\n",
    "\n",
    "Let's begin by importing the dataset and taking a first look at the data.\n",
    "\n",
    "### 1. Data import\n",
    "\n",
    "Download the Titanic dataset from [this link](https://github.com/datasciencedojo/datasets/blob/master/titanic.csv) file into a Pandas DataFrame.\n",
    "Name the DataFrame descriptively."
   ]
  },
  {
   "cell_type": "markdown",
   "metadata": {},
   "source": [
    "Your answers(s)"
   ]
  },
  {
   "cell_type": "code",
   "execution_count": 23,
   "metadata": {
    "ExecuteTime": {
     "end_time": "2023-09-25T23:07:24.471621Z",
     "start_time": "2023-09-25T23:07:24.379335Z"
    }
   },
   "outputs": [],
   "source": [
    "# your code"
   ]
  },
  {
   "cell_type": "markdown",
   "metadata": {},
   "source": [
    "Initial Data Overview:\n",
    "\n",
    "- Display the first five rows of the DataFrame using `head()`.\n",
    "- Check for missing values in each column, display the number of missing values in each column as a percentage.\n",
    "- Inspect data types using dtypes, and convert data types where needed.\n",
    "- Identify categorical columns, and encode them using pd.get_dummies()."
   ]
  },
  {
   "cell_type": "markdown",
   "metadata": {},
   "source": [
    "Your answers(s)"
   ]
  },
  {
   "cell_type": "code",
   "execution_count": 24,
   "metadata": {
    "ExecuteTime": {
     "end_time": "2023-09-25T23:07:24.501031Z",
     "start_time": "2023-09-25T23:07:24.392434Z"
    }
   },
   "outputs": [],
   "source": [
    "# your code"
   ]
  },
  {
   "cell_type": "markdown",
   "metadata": {},
   "source": [
    "Handling Missing Values:\n",
    "Develop a strategy to address missing values, considering alternatives like imputation or removal.\n",
    "- Hint: Look into the `dropna()` and `fillna()` methods depending on your strategy."
   ]
  },
  {
   "cell_type": "markdown",
   "metadata": {},
   "source": [
    "Your answers(s)"
   ]
  },
  {
   "cell_type": "code",
   "execution_count": 25,
   "metadata": {
    "ExecuteTime": {
     "end_time": "2023-09-25T23:07:24.537118Z",
     "start_time": "2023-09-25T23:07:24.406825Z"
    }
   },
   "outputs": [],
   "source": [
    "# your code"
   ]
  },
  {
   "cell_type": "markdown",
   "metadata": {},
   "source": [
    "Insights:\n",
    "\n",
    "Look into how certain variables influence other vairables in the dataset and try to find some interesting insights.\n",
    "- Hint: You can inverstigate `groupby()` and `agg()` to aggregate data, as well as `value_counts` or `pivot`..\n"
   ]
  },
  {
   "cell_type": "markdown",
   "metadata": {},
   "source": [
    "Your answers(s)"
   ]
  },
  {
   "cell_type": "code",
   "execution_count": 26,
   "metadata": {
    "ExecuteTime": {
     "end_time": "2023-09-25T23:07:24.537988Z",
     "start_time": "2023-09-25T23:07:24.421236Z"
    }
   },
   "outputs": [],
   "source": [
    "# your code"
   ]
  },
  {
   "cell_type": "markdown",
   "metadata": {},
   "source": [
    "Visualisation\n",
    "Choose appropriate plotting techniques for visualizing columns of your choosing display them.\n",
    "Generate at least 4 graphs, complete with axes, titles, and legends. Feel free to add error bars, confidence intervals, differences in hue, size, and shape if appropriate.\n",
    "- Hint: Pandas has a built-in plotting library that is a wrapper around matplotlib. You can learn more [here](https://pandas.pydata.org/docs/user_guide/visualization.html)"
   ]
  },
  {
   "cell_type": "markdown",
   "metadata": {},
   "source": [
    "Your answers(s)"
   ]
  },
  {
   "cell_type": "code",
   "execution_count": 27,
   "metadata": {
    "ExecuteTime": {
     "end_time": "2023-09-25T23:07:24.538112Z",
     "start_time": "2023-09-25T23:07:24.436064Z"
    }
   },
   "outputs": [],
   "source": [
    "# your code"
   ]
  },
  {
   "cell_type": "markdown",
   "source": [
    "**Bonus**\n",
    "\n",
    "Write a simple classifier to predict wether a passenger survives or not. You can use the `sklearn` library to do so."
   ],
   "metadata": {
    "collapsed": false
   }
  },
  {
   "cell_type": "markdown",
   "metadata": {},
   "source": [
    "---\n",
    "## <a name=\"ex2\">Exercise 2: 2D Fourier transform, ideal low-pass filter and linear convolution</a> [(&#8593;)](#content)\n",
    "\n",
    "In this exercise, we explore the use of the 2-dimensional Fourier transform to filter an image, and convolve it with a blurring kernel.\n",
    "\n",
    "1\\. Load and display one of the images contained in the `img/` folder. The image will be denoted by $\\mathbf{X} \\in \\mathbb{R}^{M_1 \\times N_1}$ in the rest of this exercise."
   ]
  },
  {
   "cell_type": "markdown",
   "metadata": {},
   "source": [
    "Your answers(s)"
   ]
  },
  {
   "cell_type": "code",
   "execution_count": 28,
   "metadata": {
    "ExecuteTime": {
     "end_time": "2023-09-25T23:07:24.538403Z",
     "start_time": "2023-09-25T23:07:24.448856Z"
    }
   },
   "outputs": [],
   "source": [
    "# your code"
   ]
  },
  {
   "cell_type": "markdown",
   "metadata": {},
   "source": [
    "2\\. Let $\\mathcal{F}$ denote the 2D discrete Fourier transform. Compute $|\\mathcal{F}(\\mathbf{X})|^2$, the spectrum of the image $\\mathbf{X} \\in \\mathbb{R}^{M_1 \\times N_1}$ (i.e., the term-wise squared absolute value of its Fourier transform) loaded in 1. Display the result in logarithmic scale.\n",
    "\n",
    "a) In this representation, where is the pixel of the spectrum associated with the null frequency located?\n",
    "    \n",
    "b) Take a look at the documentation of `np.fft.fftshift`. Use it to ensure that the null frequency is located at the center of the image. "
   ]
  },
  {
   "cell_type": "markdown",
   "metadata": {},
   "source": [
    "Your answers(s)"
   ]
  },
  {
   "cell_type": "code",
   "execution_count": 29,
   "metadata": {
    "ExecuteTime": {
     "end_time": "2023-09-25T23:07:24.552911Z",
     "start_time": "2023-09-25T23:07:24.461942Z"
    }
   },
   "outputs": [],
   "source": [
    "# your code"
   ]
  },
  {
   "cell_type": "markdown",
   "metadata": {},
   "source": [
    "3\\. \n",
    "    a) Create a function `ideal_lowpass_filter` to filter $\\mathbf{X}$ by an ideal low-pass filter. The filter preserves Fourier coefficients associated to frequencies below a cutoff specified in each direction ($\\mathbf{f}_c = (f_{c,y}, f_{c,x})$), and sets others to zero. For simplicity, $f_{c,y}$ and $f_{c,x}$ can be expressed as a number of samples to be kept along each dimension (e.g., $\\mathbf{f}_c = (50,50)$).\n",
    "\n",
    "b) Display the filtered image for 2 different values of $\\mathbf{f}_c$. What do you observe as the cutoff frequencies increase?\n",
    "    \n",
    "> Warning: beware the type of the array after `np.fft.fft2`, do not hesitate to specify the type if you make copies from this array\n",
    "> ```python\n",
    "> a = np.zeros((2,2), dtype=np.complex)\n",
    "> ...\n",
    "> ```"
   ]
  },
  {
   "cell_type": "markdown",
   "metadata": {},
   "source": [
    "Your answers(s)"
   ]
  },
  {
   "cell_type": "code",
   "execution_count": 30,
   "metadata": {
    "ExecuteTime": {
     "end_time": "2023-09-25T23:07:24.553182Z",
     "start_time": "2023-09-25T23:07:24.476392Z"
    }
   },
   "outputs": [],
   "source": [
    "# your code"
   ]
  },
  {
   "cell_type": "markdown",
   "metadata": {},
   "source": [
    "**Bonus**\n",
    "\n",
    "\n",
    "4\\. Let $\\mathbf{H} \\in \\mathbb{R}^{M_2\\times N_2}$ be a 2-D Gaussian kernel, obtained as the outer product of two 1-D Gaussian windows $\\mathbf{w}_y \\in \\mathbb{R}^{M_2}$ and $\\mathbf{w}_x \\in \\mathbb{R}^{N_2}$, of standard deviation $\\sigma_y = 10$ and $\\sigma_x = 10$, respectively:\n",
    "\n",
    "\\begin{equation}\n",
    "    \\mathbf{H} = \\mathbf{w}_y \\mathbf{w}_x^T.\n",
    "\\end{equation}\n",
    "\n",
    "Let $M = M_1+M_2-1$ and $N =  N_1+N_2-1$. From the discrete convolution theorem, the linear convolution between $\\mathbf{H}$ and $\\mathbf{X}$ can be computed as follows\n",
    "\n",
    "\\begin{equation}\n",
    "    \\mathbf{X} \\star \\mathbf{H} = \\bigg( \\mathcal{F}^{-1} \\Big( \\mathcal{F}\\big(P_1(\\mathbf{X})\\big) \\odot \\mathcal{F}\\big(P_2(\\mathbf{H})\\big) \\Big) \\bigg) \\in \\mathbb{R}^{M\\times N},\n",
    "\\end{equation}\n",
    "\n",
    "where $P_i: \\mathbb{R}^{M_i \\times N_i} \\rightarrow \\mathbb{R}^{M \\times N}$, $i \\in \\{1, 2\\}$, are 0-padding operators, $\\odot$ is the Hadamard (= term-wise) product, $\\mathcal{F}^{-1}$ is the 2D discrete inverse Fourier transform and $P_1^*$ is a cropping operator (adjoint of $P_1$). \n",
    "\n",
    "Compute and display $\\mathbf{X} \\star \\mathbf{H}$, for $M_2 = N_2 = 10$. What do you observe?\n",
    "\n",
    "> Hint: \n",
    "> - the usual 0-padding procedure in image space consists in appending trailing zeros. For instance (in 1D), 0-padding a vector $\\mathbf{x} \\in \\mathbb{R}^N_1$ to the size $N>N_1$ corresponds to creating the vector\n",
    "\\begin{bmatrix}\n",
    "\\mathbf{x} \\\\\n",
    "\\mathbf{0}_{N-N_1}\n",
    "\\end{bmatrix}\n",
    "> - since the input images are real, $\\mathcal{F}(\\mathbf{x})$ and $\\mathcal{F}(\\mathbf{h})$ are Hermitian symmetric. In this case, a more efficient version of `np.fft.fft2` can be used, computing only quarter of the Fourier coefficients (half of the Fourier coefficients in each direction): [`np.fft.rfft2`](https://numpy.org/doc/stable/reference/generated/numpy.fft.rfft2.html?highlight=rfft#numpy.fft.rfft2). Its inverse, [`np.fft.irfft2`](https://numpy.org/doc/stable/reference/generated/numpy.fft.irfft2.html#numpy.fft.irfft2), also ensures that the output is real;\n",
    "> - the 2D Gaussian window can be generated as the outer product of two 1D Gaussian windows (one window for each dimension);\n",
    "> - you can take a look at [scipy.signal.windows.gaussian](https://docs.scipy.org/doc/scipy/reference/generated/scipy.signal.windows.gaussian.html#scipy.signal.windows.gaussian) and [np.newaxis](https://numpy.org/doc/stable/reference/constants.html?highlight=newaxis#numpy.newaxis)."
   ]
  },
  {
   "cell_type": "markdown",
   "metadata": {},
   "source": [
    "Your answers(s)"
   ]
  },
  {
   "cell_type": "code",
   "execution_count": 31,
   "metadata": {
    "ExecuteTime": {
     "end_time": "2023-09-25T23:07:24.584750Z",
     "start_time": "2023-09-25T23:07:24.491072Z"
    }
   },
   "outputs": [],
   "source": [
    "# your code"
   ]
  }
 ],
 "metadata": {
  "kernelspec": {
   "display_name": "Python 3.9.13 ('python-g3')",
   "language": "python",
   "name": "python3"
  },
  "language_info": {
   "codemirror_mode": {
    "name": "ipython",
    "version": 3
   },
   "file_extension": ".py",
   "mimetype": "text/x-python",
   "name": "python",
   "nbconvert_exporter": "python",
   "pygments_lexer": "ipython3",
   "version": "3.9.13"
  },
  "vscode": {
   "interpreter": {
    "hash": "58ce234235271a992c6c1e3b99a6569700980df73fb4c638b79441455019e58f"
   }
  }
 },
 "nbformat": 4,
 "nbformat_minor": 4
}
